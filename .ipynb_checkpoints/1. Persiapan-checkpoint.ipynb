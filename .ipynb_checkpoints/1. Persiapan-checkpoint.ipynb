{
 "cells": [
  {
   "cell_type": "markdown",
   "id": "communist-footwear",
   "metadata": {},
   "source": [
    "# Import Library"
   ]
  },
  {
   "cell_type": "code",
   "execution_count": 1,
   "id": "secret-accordance",
   "metadata": {},
   "outputs": [],
   "source": [
    "import numpy as np\n",
    "import pandas as pd\n",
    "import matplotlib.pyplot as plt\n",
    "import seaborn as sns\n",
    "sns.set()\n",
    "from warnings import filterwarnings\n",
    "filterwarnings('ignore')\n",
    "\n",
    "from sklearn.model_selection import train_test_split"
   ]
  },
  {
   "cell_type": "markdown",
   "id": "addressed-creature",
   "metadata": {},
   "source": [
    "# Load Data"
   ]
  },
  {
   "cell_type": "code",
   "execution_count": 2,
   "id": "federal-holder",
   "metadata": {},
   "outputs": [
    {
     "data": {
      "text/html": [
       "<div>\n",
       "<style scoped>\n",
       "    .dataframe tbody tr th:only-of-type {\n",
       "        vertical-align: middle;\n",
       "    }\n",
       "\n",
       "    .dataframe tbody tr th {\n",
       "        vertical-align: top;\n",
       "    }\n",
       "\n",
       "    .dataframe thead th {\n",
       "        text-align: right;\n",
       "    }\n",
       "</style>\n",
       "<table border=\"1\" class=\"dataframe\">\n",
       "  <thead>\n",
       "    <tr style=\"text-align: right;\">\n",
       "      <th></th>\n",
       "      <th>title</th>\n",
       "      <th>genres</th>\n",
       "      <th>cast</th>\n",
       "      <th>keywords</th>\n",
       "      <th>director</th>\n",
       "      <th>overview</th>\n",
       "      <th>metadata</th>\n",
       "    </tr>\n",
       "  </thead>\n",
       "  <tbody>\n",
       "    <tr>\n",
       "      <th>0</th>\n",
       "      <td>toy story</td>\n",
       "      <td>animation comedy family</td>\n",
       "      <td>tom_hanks tim_allen don_rickles</td>\n",
       "      <td>jealousy toy boy</td>\n",
       "      <td>john_lasseter</td>\n",
       "      <td>Led by Woody, Andy's toys live happily in his ...</td>\n",
       "      <td>Toy Story Led by Woody, Andy's toys live happi...</td>\n",
       "    </tr>\n",
       "    <tr>\n",
       "      <th>1</th>\n",
       "      <td>jumanji</td>\n",
       "      <td>adventure fantasy family</td>\n",
       "      <td>robin_williams jonathan_hyde kirsten_dunst</td>\n",
       "      <td>board_game disappearance based_on_children's_book</td>\n",
       "      <td>joe_johnston</td>\n",
       "      <td>When siblings Judy and Peter discover an encha...</td>\n",
       "      <td>Jumanji When siblings Judy and Peter discover ...</td>\n",
       "    </tr>\n",
       "    <tr>\n",
       "      <th>2</th>\n",
       "      <td>grumpier old men</td>\n",
       "      <td>romance comedy</td>\n",
       "      <td>walter_matthau jack_lemmon ann-margret</td>\n",
       "      <td>fishing best_friend duringcreditsstinger</td>\n",
       "      <td>howard_deutch</td>\n",
       "      <td>A family wedding reignites the ancient feud be...</td>\n",
       "      <td>Grumpier Old Men A family wedding reignites th...</td>\n",
       "    </tr>\n",
       "    <tr>\n",
       "      <th>3</th>\n",
       "      <td>waiting to exhale</td>\n",
       "      <td>comedy drama romance</td>\n",
       "      <td>whitney_houston angela_bassett loretta_devine</td>\n",
       "      <td>based_on_novel interracial_relationship single...</td>\n",
       "      <td>forest_whitaker</td>\n",
       "      <td>Cheated on, mistreated and stepped on, the wom...</td>\n",
       "      <td>Waiting to Exhale Cheated on, mistreated and s...</td>\n",
       "    </tr>\n",
       "    <tr>\n",
       "      <th>4</th>\n",
       "      <td>father of the bride part ii</td>\n",
       "      <td>comedy</td>\n",
       "      <td>steve_martin diane_keaton martin_short</td>\n",
       "      <td>baby midlife_crisis confidence</td>\n",
       "      <td>charles_shyer</td>\n",
       "      <td>Just when George Banks has recovered from his ...</td>\n",
       "      <td>Father of the Bride Part II Just when George B...</td>\n",
       "    </tr>\n",
       "  </tbody>\n",
       "</table>\n",
       "</div>"
      ],
      "text/plain": [
       "                         title                    genres  \\\n",
       "0                    toy story   animation comedy family   \n",
       "1                      jumanji  adventure fantasy family   \n",
       "2             grumpier old men            romance comedy   \n",
       "3            waiting to exhale      comedy drama romance   \n",
       "4  father of the bride part ii                    comedy   \n",
       "\n",
       "                                            cast  \\\n",
       "0                tom_hanks tim_allen don_rickles   \n",
       "1     robin_williams jonathan_hyde kirsten_dunst   \n",
       "2         walter_matthau jack_lemmon ann-margret   \n",
       "3  whitney_houston angela_bassett loretta_devine   \n",
       "4         steve_martin diane_keaton martin_short   \n",
       "\n",
       "                                            keywords         director  \\\n",
       "0                                   jealousy toy boy    john_lasseter   \n",
       "1  board_game disappearance based_on_children's_book     joe_johnston   \n",
       "2           fishing best_friend duringcreditsstinger    howard_deutch   \n",
       "3  based_on_novel interracial_relationship single...  forest_whitaker   \n",
       "4                     baby midlife_crisis confidence    charles_shyer   \n",
       "\n",
       "                                            overview  \\\n",
       "0  Led by Woody, Andy's toys live happily in his ...   \n",
       "1  When siblings Judy and Peter discover an encha...   \n",
       "2  A family wedding reignites the ancient feud be...   \n",
       "3  Cheated on, mistreated and stepped on, the wom...   \n",
       "4  Just when George Banks has recovered from his ...   \n",
       "\n",
       "                                            metadata  \n",
       "0  Toy Story Led by Woody, Andy's toys live happi...  \n",
       "1  Jumanji When siblings Judy and Peter discover ...  \n",
       "2  Grumpier Old Men A family wedding reignites th...  \n",
       "3  Waiting to Exhale Cheated on, mistreated and s...  \n",
       "4  Father of the Bride Part II Just when George B...  "
      ]
     },
     "execution_count": 2,
     "metadata": {},
     "output_type": "execute_result"
    }
   ],
   "source": [
    "df = pd.read_csv(\"data/content_based_movie.csv\")\n",
    "df.head()"
   ]
  },
  {
   "cell_type": "code",
   "execution_count": 3,
   "id": "streaming-watts",
   "metadata": {},
   "outputs": [
    {
     "data": {
      "text/plain": [
       "(41362, 7)"
      ]
     },
     "execution_count": 3,
     "metadata": {},
     "output_type": "execute_result"
    }
   ],
   "source": [
    "df.shape"
   ]
  },
  {
   "cell_type": "code",
   "execution_count": 4,
   "id": "emotional-saskatchewan",
   "metadata": {},
   "outputs": [
    {
     "data": {
      "text/plain": [
       "title       object\n",
       "genres      object\n",
       "cast        object\n",
       "keywords    object\n",
       "director    object\n",
       "overview    object\n",
       "metadata    object\n",
       "dtype: object"
      ]
     },
     "execution_count": 4,
     "metadata": {},
     "output_type": "execute_result"
    }
   ],
   "source": [
    "df.dtypes"
   ]
  },
  {
   "cell_type": "code",
   "execution_count": 5,
   "id": "effective-alloy",
   "metadata": {},
   "outputs": [
    {
     "data": {
      "text/plain": [
       "title           0\n",
       "genres       2031\n",
       "cast         2194\n",
       "keywords    12731\n",
       "director      797\n",
       "overview        0\n",
       "metadata        0\n",
       "dtype: int64"
      ]
     },
     "execution_count": 5,
     "metadata": {},
     "output_type": "execute_result"
    }
   ],
   "source": [
    "df.isna().sum()"
   ]
  },
  {
   "cell_type": "code",
   "execution_count": 6,
   "id": "genetic-henry",
   "metadata": {},
   "outputs": [
    {
     "data": {
      "text/plain": [
       "\"Toy Story Led by Woody, Andy's toys live happily in his room until Andy's birthday brings Buzz Lightyear onto the scene. Afraid of losing his place in Andy's heart, Woody plots against Buzz. But when circumstances separate Buzz and Woody from their owner, the duo eventually learns to put aside their differences. animation comedy family tom_hanks tim_allen don_rickles jealousy toy boy john_lasseter\""
      ]
     },
     "execution_count": 6,
     "metadata": {},
     "output_type": "execute_result"
    }
   ],
   "source": [
    "df.metadata[0]"
   ]
  },
  {
   "cell_type": "markdown",
   "id": "changing-regular",
   "metadata": {},
   "source": [
    "# Cleaning"
   ]
  },
  {
   "cell_type": "code",
   "execution_count": 7,
   "id": "cathedral-financing",
   "metadata": {},
   "outputs": [],
   "source": [
    "from nltk.tokenize import word_tokenize\n",
    "from nltk.corpus import stopwords\n",
    "import re\n",
    "from string import punctuation\n",
    "from sklearn.feature_extraction.text import TfidfVectorizer, CountVectorizer"
   ]
  },
  {
   "cell_type": "code",
   "execution_count": 8,
   "id": "greatest-approval",
   "metadata": {},
   "outputs": [],
   "source": [
    "def cleansing(text):\n",
    "    text = text.lower()\n",
    "    word_list = word_tokenize(text)\n",
    "    word_list = [word for word in word_list if len(word) > 1 and word.isalpha()]\n",
    "    text = ' '.join(word_list)\n",
    "    return text"
   ]
  },
  {
   "cell_type": "code",
   "execution_count": 9,
   "id": "foreign-namibia",
   "metadata": {},
   "outputs": [],
   "source": [
    "df['metadata'] = df.metadata.apply(cleansing)"
   ]
  },
  {
   "cell_type": "code",
   "execution_count": 10,
   "id": "coated-polish",
   "metadata": {},
   "outputs": [
    {
     "data": {
      "text/plain": [
       "'toy story led by woody andy toys live happily in his room until andy birthday brings buzz lightyear onto the scene afraid of losing his place in andy heart woody plots against buzz but when circumstances separate buzz and woody from their owner the duo eventually learns to put aside their differences animation comedy family jealousy toy boy'"
      ]
     },
     "execution_count": 10,
     "metadata": {},
     "output_type": "execute_result"
    }
   ],
   "source": [
    "df.metadata[0]"
   ]
  },
  {
   "cell_type": "code",
   "execution_count": 11,
   "id": "scheduled-digest",
   "metadata": {},
   "outputs": [
    {
     "data": {
      "text/html": [
       "<div>\n",
       "<style scoped>\n",
       "    .dataframe tbody tr th:only-of-type {\n",
       "        vertical-align: middle;\n",
       "    }\n",
       "\n",
       "    .dataframe tbody tr th {\n",
       "        vertical-align: top;\n",
       "    }\n",
       "\n",
       "    .dataframe thead th {\n",
       "        text-align: right;\n",
       "    }\n",
       "</style>\n",
       "<table border=\"1\" class=\"dataframe\">\n",
       "  <thead>\n",
       "    <tr style=\"text-align: right;\">\n",
       "      <th></th>\n",
       "      <th>title</th>\n",
       "      <th>genres</th>\n",
       "      <th>cast</th>\n",
       "      <th>keywords</th>\n",
       "      <th>director</th>\n",
       "      <th>overview</th>\n",
       "      <th>metadata</th>\n",
       "    </tr>\n",
       "  </thead>\n",
       "  <tbody>\n",
       "    <tr>\n",
       "      <th>0</th>\n",
       "      <td>toy story</td>\n",
       "      <td>animation comedy family</td>\n",
       "      <td>tom_hanks tim_allen don_rickles</td>\n",
       "      <td>jealousy toy boy</td>\n",
       "      <td>john_lasseter</td>\n",
       "      <td>Led by Woody, Andy's toys live happily in his ...</td>\n",
       "      <td>toy story led by woody andy toys live happily ...</td>\n",
       "    </tr>\n",
       "    <tr>\n",
       "      <th>1</th>\n",
       "      <td>jumanji</td>\n",
       "      <td>adventure fantasy family</td>\n",
       "      <td>robin_williams jonathan_hyde kirsten_dunst</td>\n",
       "      <td>board_game disappearance based_on_children's_book</td>\n",
       "      <td>joe_johnston</td>\n",
       "      <td>When siblings Judy and Peter discover an encha...</td>\n",
       "      <td>jumanji when siblings judy and peter discover ...</td>\n",
       "    </tr>\n",
       "    <tr>\n",
       "      <th>2</th>\n",
       "      <td>grumpier old men</td>\n",
       "      <td>romance comedy</td>\n",
       "      <td>walter_matthau jack_lemmon ann-margret</td>\n",
       "      <td>fishing best_friend duringcreditsstinger</td>\n",
       "      <td>howard_deutch</td>\n",
       "      <td>A family wedding reignites the ancient feud be...</td>\n",
       "      <td>grumpier old men family wedding reignites the ...</td>\n",
       "    </tr>\n",
       "    <tr>\n",
       "      <th>3</th>\n",
       "      <td>waiting to exhale</td>\n",
       "      <td>comedy drama romance</td>\n",
       "      <td>whitney_houston angela_bassett loretta_devine</td>\n",
       "      <td>based_on_novel interracial_relationship single...</td>\n",
       "      <td>forest_whitaker</td>\n",
       "      <td>Cheated on, mistreated and stepped on, the wom...</td>\n",
       "      <td>waiting to exhale cheated on mistreated and st...</td>\n",
       "    </tr>\n",
       "    <tr>\n",
       "      <th>4</th>\n",
       "      <td>father of the bride part ii</td>\n",
       "      <td>comedy</td>\n",
       "      <td>steve_martin diane_keaton martin_short</td>\n",
       "      <td>baby midlife_crisis confidence</td>\n",
       "      <td>charles_shyer</td>\n",
       "      <td>Just when George Banks has recovered from his ...</td>\n",
       "      <td>father of the bride part ii just when george b...</td>\n",
       "    </tr>\n",
       "  </tbody>\n",
       "</table>\n",
       "</div>"
      ],
      "text/plain": [
       "                         title                    genres  \\\n",
       "0                    toy story   animation comedy family   \n",
       "1                      jumanji  adventure fantasy family   \n",
       "2             grumpier old men            romance comedy   \n",
       "3            waiting to exhale      comedy drama romance   \n",
       "4  father of the bride part ii                    comedy   \n",
       "\n",
       "                                            cast  \\\n",
       "0                tom_hanks tim_allen don_rickles   \n",
       "1     robin_williams jonathan_hyde kirsten_dunst   \n",
       "2         walter_matthau jack_lemmon ann-margret   \n",
       "3  whitney_houston angela_bassett loretta_devine   \n",
       "4         steve_martin diane_keaton martin_short   \n",
       "\n",
       "                                            keywords         director  \\\n",
       "0                                   jealousy toy boy    john_lasseter   \n",
       "1  board_game disappearance based_on_children's_book     joe_johnston   \n",
       "2           fishing best_friend duringcreditsstinger    howard_deutch   \n",
       "3  based_on_novel interracial_relationship single...  forest_whitaker   \n",
       "4                     baby midlife_crisis confidence    charles_shyer   \n",
       "\n",
       "                                            overview  \\\n",
       "0  Led by Woody, Andy's toys live happily in his ...   \n",
       "1  When siblings Judy and Peter discover an encha...   \n",
       "2  A family wedding reignites the ancient feud be...   \n",
       "3  Cheated on, mistreated and stepped on, the wom...   \n",
       "4  Just when George Banks has recovered from his ...   \n",
       "\n",
       "                                            metadata  \n",
       "0  toy story led by woody andy toys live happily ...  \n",
       "1  jumanji when siblings judy and peter discover ...  \n",
       "2  grumpier old men family wedding reignites the ...  \n",
       "3  waiting to exhale cheated on mistreated and st...  \n",
       "4  father of the bride part ii just when george b...  "
      ]
     },
     "execution_count": 11,
     "metadata": {},
     "output_type": "execute_result"
    }
   ],
   "source": [
    "df.head()"
   ]
  },
  {
   "cell_type": "markdown",
   "id": "loving-brooks",
   "metadata": {},
   "source": [
    "# Create Stopwords"
   ]
  },
  {
   "cell_type": "code",
   "execution_count": 12,
   "id": "dirty-repository",
   "metadata": {},
   "outputs": [],
   "source": [
    "bow = CountVectorizer()"
   ]
  },
  {
   "cell_type": "code",
   "execution_count": 13,
   "id": "detected-monte",
   "metadata": {},
   "outputs": [],
   "source": [
    "bow_matrix = bow.fit_transform(df.metadata)"
   ]
  },
  {
   "cell_type": "code",
   "execution_count": 14,
   "id": "finished-polymer",
   "metadata": {},
   "outputs": [
    {
     "data": {
      "text/html": [
       "<div>\n",
       "<style scoped>\n",
       "    .dataframe tbody tr th:only-of-type {\n",
       "        vertical-align: middle;\n",
       "    }\n",
       "\n",
       "    .dataframe tbody tr th {\n",
       "        vertical-align: top;\n",
       "    }\n",
       "\n",
       "    .dataframe thead th {\n",
       "        text-align: right;\n",
       "    }\n",
       "</style>\n",
       "<table border=\"1\" class=\"dataframe\">\n",
       "  <thead>\n",
       "    <tr style=\"text-align: right;\">\n",
       "      <th></th>\n",
       "      <th>term</th>\n",
       "      <th>frekuensi</th>\n",
       "    </tr>\n",
       "  </thead>\n",
       "  <tbody>\n",
       "    <tr>\n",
       "      <th>0</th>\n",
       "      <td>aa</td>\n",
       "      <td>5</td>\n",
       "    </tr>\n",
       "    <tr>\n",
       "      <th>1</th>\n",
       "      <td>aaa</td>\n",
       "      <td>1</td>\n",
       "    </tr>\n",
       "    <tr>\n",
       "      <th>2</th>\n",
       "      <td>aaaaaaaah</td>\n",
       "      <td>1</td>\n",
       "    </tr>\n",
       "    <tr>\n",
       "      <th>3</th>\n",
       "      <td>aaaron</td>\n",
       "      <td>1</td>\n",
       "    </tr>\n",
       "    <tr>\n",
       "      <th>4</th>\n",
       "      <td>aachan</td>\n",
       "      <td>4</td>\n",
       "    </tr>\n",
       "  </tbody>\n",
       "</table>\n",
       "</div>"
      ],
      "text/plain": [
       "        term  frekuensi\n",
       "0         aa          5\n",
       "1        aaa          1\n",
       "2  aaaaaaaah          1\n",
       "3     aaaron          1\n",
       "4     aachan          4"
      ]
     },
     "execution_count": 14,
     "metadata": {},
     "output_type": "execute_result"
    }
   ],
   "source": [
    "term = bow.get_feature_names()\n",
    "\n",
    "sums = bow_matrix.sum(axis=0)\n",
    "\n",
    "data = []\n",
    "\n",
    "for col, term in enumerate(term):\n",
    "    data.append((term, sums[0, col]))\n",
    "\n",
    "ranking = pd.DataFrame(data, columns=['term', 'frekuensi'])\n",
    "ranking.head()"
   ]
  },
  {
   "cell_type": "code",
   "execution_count": 15,
   "id": "intellectual-serial",
   "metadata": {},
   "outputs": [
    {
     "data": {
      "text/html": [
       "<div>\n",
       "<style scoped>\n",
       "    .dataframe tbody tr th:only-of-type {\n",
       "        vertical-align: middle;\n",
       "    }\n",
       "\n",
       "    .dataframe tbody tr th {\n",
       "        vertical-align: top;\n",
       "    }\n",
       "\n",
       "    .dataframe thead th {\n",
       "        text-align: right;\n",
       "    }\n",
       "</style>\n",
       "<table border=\"1\" class=\"dataframe\">\n",
       "  <thead>\n",
       "    <tr style=\"text-align: right;\">\n",
       "      <th></th>\n",
       "      <th>term</th>\n",
       "      <th>frekuensi</th>\n",
       "    </tr>\n",
       "  </thead>\n",
       "  <tbody>\n",
       "    <tr>\n",
       "      <th>67487</th>\n",
       "      <td>the</td>\n",
       "      <td>141970</td>\n",
       "    </tr>\n",
       "    <tr>\n",
       "      <th>2260</th>\n",
       "      <td>and</td>\n",
       "      <td>71709</td>\n",
       "    </tr>\n",
       "    <tr>\n",
       "      <th>47627</th>\n",
       "      <td>of</td>\n",
       "      <td>69564</td>\n",
       "    </tr>\n",
       "    <tr>\n",
       "      <th>68176</th>\n",
       "      <td>to</td>\n",
       "      <td>69315</td>\n",
       "    </tr>\n",
       "    <tr>\n",
       "      <th>31812</th>\n",
       "      <td>in</td>\n",
       "      <td>46443</td>\n",
       "    </tr>\n",
       "    <tr>\n",
       "      <th>...</th>\n",
       "      <td>...</td>\n",
       "      <td>...</td>\n",
       "    </tr>\n",
       "    <tr>\n",
       "      <th>29511</th>\n",
       "      <td>hero</td>\n",
       "      <td>522</td>\n",
       "    </tr>\n",
       "    <tr>\n",
       "      <th>63562</th>\n",
       "      <td>sport</td>\n",
       "      <td>520</td>\n",
       "    </tr>\n",
       "    <tr>\n",
       "      <th>69388</th>\n",
       "      <td>trouble</td>\n",
       "      <td>517</td>\n",
       "    </tr>\n",
       "    <tr>\n",
       "      <th>26626</th>\n",
       "      <td>gold</td>\n",
       "      <td>516</td>\n",
       "    </tr>\n",
       "    <tr>\n",
       "      <th>56102</th>\n",
       "      <td>rescue</td>\n",
       "      <td>514</td>\n",
       "    </tr>\n",
       "  </tbody>\n",
       "</table>\n",
       "<p>500 rows × 2 columns</p>\n",
       "</div>"
      ],
      "text/plain": [
       "          term  frekuensi\n",
       "67487      the     141970\n",
       "2260       and      71709\n",
       "47627       of      69564\n",
       "68176       to      69315\n",
       "31812       in      46443\n",
       "...        ...        ...\n",
       "29511     hero        522\n",
       "63562    sport        520\n",
       "69388  trouble        517\n",
       "26626     gold        516\n",
       "56102   rescue        514\n",
       "\n",
       "[500 rows x 2 columns]"
      ]
     },
     "execution_count": 15,
     "metadata": {},
     "output_type": "execute_result"
    }
   ],
   "source": [
    "stopwords = ranking.sort_values('frekuensi', ascending=False).head(500)\n",
    "stopwords"
   ]
  },
  {
   "cell_type": "code",
   "execution_count": 16,
   "id": "informational-paste",
   "metadata": {},
   "outputs": [],
   "source": [
    "stopwords.to_excel('data/stopwords.xlsx', index=False)"
   ]
  },
  {
   "cell_type": "code",
   "execution_count": null,
   "id": "western-hepatitis",
   "metadata": {},
   "outputs": [],
   "source": []
  }
 ],
 "metadata": {
  "kernelspec": {
   "display_name": "Python [conda env:jcop]",
   "language": "python",
   "name": "conda-env-jcop-py"
  },
  "language_info": {
   "codemirror_mode": {
    "name": "ipython",
    "version": 3
   },
   "file_extension": ".py",
   "mimetype": "text/x-python",
   "name": "python",
   "nbconvert_exporter": "python",
   "pygments_lexer": "ipython3",
   "version": "3.8.3"
  }
 },
 "nbformat": 4,
 "nbformat_minor": 5
}
