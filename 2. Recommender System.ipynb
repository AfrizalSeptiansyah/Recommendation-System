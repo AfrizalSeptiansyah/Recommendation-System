{
 "cells": [
  {
   "cell_type": "markdown",
   "id": "committed-general",
   "metadata": {},
   "source": [
    "# Recommender System with Content Based Filtering"
   ]
  },
  {
   "cell_type": "markdown",
   "id": "expanded-inclusion",
   "metadata": {},
   "source": [
    "## Import Library"
   ]
  },
  {
   "cell_type": "code",
   "execution_count": 1,
   "id": "cosmetic-kitchen",
   "metadata": {},
   "outputs": [],
   "source": [
    "import numpy as np\n",
    "import pandas as pd\n",
    "import matplotlib.pyplot as plt\n",
    "import seaborn as sns\n",
    "sns.set()\n",
    "from warnings import filterwarnings\n",
    "filterwarnings('ignore')\n",
    "\n",
    "from jcopml.utils import save_model, load_model"
   ]
  },
  {
   "cell_type": "markdown",
   "id": "meaningful-blowing",
   "metadata": {},
   "source": [
    "## Load Data"
   ]
  },
  {
   "cell_type": "code",
   "execution_count": 2,
   "id": "consecutive-robin",
   "metadata": {},
   "outputs": [
    {
     "data": {
      "text/html": [
       "<div>\n",
       "<style scoped>\n",
       "    .dataframe tbody tr th:only-of-type {\n",
       "        vertical-align: middle;\n",
       "    }\n",
       "\n",
       "    .dataframe tbody tr th {\n",
       "        vertical-align: top;\n",
       "    }\n",
       "\n",
       "    .dataframe thead th {\n",
       "        text-align: right;\n",
       "    }\n",
       "</style>\n",
       "<table border=\"1\" class=\"dataframe\">\n",
       "  <thead>\n",
       "    <tr style=\"text-align: right;\">\n",
       "      <th></th>\n",
       "      <th>title</th>\n",
       "      <th>genres</th>\n",
       "      <th>cast</th>\n",
       "      <th>keywords</th>\n",
       "      <th>director</th>\n",
       "      <th>overview</th>\n",
       "      <th>metadata</th>\n",
       "    </tr>\n",
       "  </thead>\n",
       "  <tbody>\n",
       "    <tr>\n",
       "      <th>0</th>\n",
       "      <td>toy story</td>\n",
       "      <td>animation comedy family</td>\n",
       "      <td>tom_hanks tim_allen don_rickles</td>\n",
       "      <td>jealousy toy boy</td>\n",
       "      <td>john_lasseter</td>\n",
       "      <td>Led by Woody, Andy's toys live happily in his ...</td>\n",
       "      <td>Toy Story Led by Woody, Andy's toys live happi...</td>\n",
       "    </tr>\n",
       "    <tr>\n",
       "      <th>1</th>\n",
       "      <td>jumanji</td>\n",
       "      <td>adventure fantasy family</td>\n",
       "      <td>robin_williams jonathan_hyde kirsten_dunst</td>\n",
       "      <td>board_game disappearance based_on_children's_book</td>\n",
       "      <td>joe_johnston</td>\n",
       "      <td>When siblings Judy and Peter discover an encha...</td>\n",
       "      <td>Jumanji When siblings Judy and Peter discover ...</td>\n",
       "    </tr>\n",
       "    <tr>\n",
       "      <th>2</th>\n",
       "      <td>grumpier old men</td>\n",
       "      <td>romance comedy</td>\n",
       "      <td>walter_matthau jack_lemmon ann-margret</td>\n",
       "      <td>fishing best_friend duringcreditsstinger</td>\n",
       "      <td>howard_deutch</td>\n",
       "      <td>A family wedding reignites the ancient feud be...</td>\n",
       "      <td>Grumpier Old Men A family wedding reignites th...</td>\n",
       "    </tr>\n",
       "    <tr>\n",
       "      <th>3</th>\n",
       "      <td>waiting to exhale</td>\n",
       "      <td>comedy drama romance</td>\n",
       "      <td>whitney_houston angela_bassett loretta_devine</td>\n",
       "      <td>based_on_novel interracial_relationship single...</td>\n",
       "      <td>forest_whitaker</td>\n",
       "      <td>Cheated on, mistreated and stepped on, the wom...</td>\n",
       "      <td>Waiting to Exhale Cheated on, mistreated and s...</td>\n",
       "    </tr>\n",
       "    <tr>\n",
       "      <th>4</th>\n",
       "      <td>father of the bride part ii</td>\n",
       "      <td>comedy</td>\n",
       "      <td>steve_martin diane_keaton martin_short</td>\n",
       "      <td>baby midlife_crisis confidence</td>\n",
       "      <td>charles_shyer</td>\n",
       "      <td>Just when George Banks has recovered from his ...</td>\n",
       "      <td>Father of the Bride Part II Just when George B...</td>\n",
       "    </tr>\n",
       "  </tbody>\n",
       "</table>\n",
       "</div>"
      ],
      "text/plain": [
       "                         title                    genres  \\\n",
       "0                    toy story   animation comedy family   \n",
       "1                      jumanji  adventure fantasy family   \n",
       "2             grumpier old men            romance comedy   \n",
       "3            waiting to exhale      comedy drama romance   \n",
       "4  father of the bride part ii                    comedy   \n",
       "\n",
       "                                            cast  \\\n",
       "0                tom_hanks tim_allen don_rickles   \n",
       "1     robin_williams jonathan_hyde kirsten_dunst   \n",
       "2         walter_matthau jack_lemmon ann-margret   \n",
       "3  whitney_houston angela_bassett loretta_devine   \n",
       "4         steve_martin diane_keaton martin_short   \n",
       "\n",
       "                                            keywords         director  \\\n",
       "0                                   jealousy toy boy    john_lasseter   \n",
       "1  board_game disappearance based_on_children's_book     joe_johnston   \n",
       "2           fishing best_friend duringcreditsstinger    howard_deutch   \n",
       "3  based_on_novel interracial_relationship single...  forest_whitaker   \n",
       "4                     baby midlife_crisis confidence    charles_shyer   \n",
       "\n",
       "                                            overview  \\\n",
       "0  Led by Woody, Andy's toys live happily in his ...   \n",
       "1  When siblings Judy and Peter discover an encha...   \n",
       "2  A family wedding reignites the ancient feud be...   \n",
       "3  Cheated on, mistreated and stepped on, the wom...   \n",
       "4  Just when George Banks has recovered from his ...   \n",
       "\n",
       "                                            metadata  \n",
       "0  Toy Story Led by Woody, Andy's toys live happi...  \n",
       "1  Jumanji When siblings Judy and Peter discover ...  \n",
       "2  Grumpier Old Men A family wedding reignites th...  \n",
       "3  Waiting to Exhale Cheated on, mistreated and s...  \n",
       "4  Father of the Bride Part II Just when George B...  "
      ]
     },
     "execution_count": 2,
     "metadata": {},
     "output_type": "execute_result"
    }
   ],
   "source": [
    "df = pd.read_csv(\"data/content_based_movie.csv\")\n",
    "df.head()"
   ]
  },
  {
   "cell_type": "code",
   "execution_count": 3,
   "id": "mathematical-herald",
   "metadata": {},
   "outputs": [
    {
     "data": {
      "text/plain": [
       "(41362, 7)"
      ]
     },
     "execution_count": 3,
     "metadata": {},
     "output_type": "execute_result"
    }
   ],
   "source": [
    "df.shape"
   ]
  },
  {
   "cell_type": "code",
   "execution_count": 4,
   "id": "coordinated-borough",
   "metadata": {},
   "outputs": [
    {
     "data": {
      "text/plain": [
       "title       object\n",
       "genres      object\n",
       "cast        object\n",
       "keywords    object\n",
       "director    object\n",
       "overview    object\n",
       "metadata    object\n",
       "dtype: object"
      ]
     },
     "execution_count": 4,
     "metadata": {},
     "output_type": "execute_result"
    }
   ],
   "source": [
    "df.dtypes"
   ]
  },
  {
   "cell_type": "code",
   "execution_count": 5,
   "id": "violent-victorian",
   "metadata": {},
   "outputs": [
    {
     "data": {
      "text/plain": [
       "title           0\n",
       "genres       2031\n",
       "cast         2194\n",
       "keywords    12731\n",
       "director      797\n",
       "overview        0\n",
       "metadata        0\n",
       "dtype: int64"
      ]
     },
     "execution_count": 5,
     "metadata": {},
     "output_type": "execute_result"
    }
   ],
   "source": [
    "df.isna().sum()"
   ]
  },
  {
   "cell_type": "markdown",
   "id": "empty-intensity",
   "metadata": {},
   "source": [
    "## Feature Extraction"
   ]
  },
  {
   "cell_type": "code",
   "execution_count": 6,
   "id": "requested-communications",
   "metadata": {},
   "outputs": [],
   "source": [
    "from nltk.tokenize import word_tokenize\n",
    "from nltk.corpus import stopwords\n",
    "import re\n",
    "from string import punctuation\n",
    "from sklearn.feature_extraction.text import TfidfVectorizer, CountVectorizer\n",
    "\n",
    "stopwords = []\n",
    "f = open('data/stopwords.txt', 'r')\n",
    "for i in f.readlines():\n",
    "    stopwords.append(i.replace('\\n', ''))\n",
    "sw_indo = stopwords + list(punctuation)"
   ]
  },
  {
   "cell_type": "code",
   "execution_count": 7,
   "id": "fossil-hello",
   "metadata": {},
   "outputs": [],
   "source": [
    "tfidf = TfidfVectorizer(stop_words=sw_indo, tokenizer=word_tokenize, min_df=2)\n",
    "features = tfidf.fit_transform(df.metadata)"
   ]
  },
  {
   "cell_type": "markdown",
   "id": "floppy-collins",
   "metadata": {},
   "source": [
    "# Save Tfidf and Features"
   ]
  },
  {
   "cell_type": "code",
   "execution_count": 8,
   "id": "quarterly-surgery",
   "metadata": {},
   "outputs": [
    {
     "name": "stdout",
     "output_type": "stream",
     "text": [
      "Model is pickled as model/tfidf.pkl\n",
      "Model is pickled as model/features.pkl\n"
     ]
    }
   ],
   "source": [
    "save_model(tfidf, \"tfidf.pkl\")\n",
    "save_model(features, \"features.pkl\")"
   ]
  },
  {
   "cell_type": "markdown",
   "id": "returning-likelihood",
   "metadata": {},
   "source": [
    "# Step 1 : Encode what user watch "
   ]
  },
  {
   "cell_type": "code",
   "execution_count": 9,
   "id": "tutorial-cycling",
   "metadata": {},
   "outputs": [],
   "source": [
    "title = 'Toy Story'"
   ]
  },
  {
   "cell_type": "code",
   "execution_count": 10,
   "id": "popular-stuart",
   "metadata": {},
   "outputs": [
    {
     "data": {
      "text/plain": [
       "\"Toy Story Led by Woody, Andy's toys live happily in his room until Andy's birthday brings Buzz Lightyear onto the scene. Afraid of losing his place in Andy's heart, Woody plots against Buzz. But when circumstances separate Buzz and Woody from their owner, the duo eventually learns to put aside their differences. animation comedy family tom_hanks tim_allen don_rickles jealousy toy boy john_lasseter\""
      ]
     },
     "execution_count": 10,
     "metadata": {},
     "output_type": "execute_result"
    }
   ],
   "source": [
    "idx = list(df[df.title == title.lower()].index)\n",
    "\n",
    "content = df.loc[idx[0], 'metadata']\n",
    "content"
   ]
  },
  {
   "cell_type": "code",
   "execution_count": 11,
   "id": "natural-apple",
   "metadata": {},
   "outputs": [],
   "source": [
    "code = tfidf.transform([content])"
   ]
  },
  {
   "cell_type": "markdown",
   "id": "successful-wagner",
   "metadata": {},
   "source": [
    "# Step 2 : Document Similarity"
   ]
  },
  {
   "cell_type": "code",
   "execution_count": 12,
   "id": "wicked-wiring",
   "metadata": {},
   "outputs": [],
   "source": [
    "from sklearn.metrics.pairwise import cosine_similarity"
   ]
  },
  {
   "cell_type": "code",
   "execution_count": 13,
   "id": "classical-soldier",
   "metadata": {},
   "outputs": [
    {
     "data": {
      "text/plain": [
       "array([[1.        , 0.03071134, 0.01113642, ..., 0.        , 0.01399582,\n",
       "        0.        ]])"
      ]
     },
     "execution_count": 13,
     "metadata": {},
     "output_type": "execute_result"
    }
   ],
   "source": [
    "dist = cosine_similarity(code, features)\n",
    "dist"
   ]
  },
  {
   "cell_type": "code",
   "execution_count": 14,
   "id": "continuous-first",
   "metadata": {},
   "outputs": [
    {
     "data": {
      "text/plain": [
       "array([ 2945, 14706,  9984, 22414, 23024, 33726, 39614, 35241, 24068,\n",
       "       38993], dtype=int64)"
      ]
     },
     "execution_count": 14,
     "metadata": {},
     "output_type": "execute_result"
    }
   ],
   "source": [
    "rec_idx = (-dist).argsort()[0, 1:11]\n",
    "rec_idx"
   ]
  },
  {
   "cell_type": "markdown",
   "id": "piano-perception",
   "metadata": {},
   "source": [
    "# Step 3 : Recommend "
   ]
  },
  {
   "cell_type": "code",
   "execution_count": 15,
   "id": "unlimited-sweet",
   "metadata": {},
   "outputs": [
    {
     "data": {
      "text/html": [
       "<div>\n",
       "<style scoped>\n",
       "    .dataframe tbody tr th:only-of-type {\n",
       "        vertical-align: middle;\n",
       "    }\n",
       "\n",
       "    .dataframe tbody tr th {\n",
       "        vertical-align: top;\n",
       "    }\n",
       "\n",
       "    .dataframe thead th {\n",
       "        text-align: right;\n",
       "    }\n",
       "</style>\n",
       "<table border=\"1\" class=\"dataframe\">\n",
       "  <thead>\n",
       "    <tr style=\"text-align: right;\">\n",
       "      <th></th>\n",
       "      <th>title</th>\n",
       "      <th>genres</th>\n",
       "      <th>cast</th>\n",
       "      <th>keywords</th>\n",
       "      <th>director</th>\n",
       "      <th>overview</th>\n",
       "      <th>metadata</th>\n",
       "    </tr>\n",
       "  </thead>\n",
       "  <tbody>\n",
       "    <tr>\n",
       "      <th>2945</th>\n",
       "      <td>toy story 2</td>\n",
       "      <td>animation comedy family</td>\n",
       "      <td>tom_hanks tim_allen joan_cusack</td>\n",
       "      <td>museum prosecution identity_crisis</td>\n",
       "      <td>john_lasseter</td>\n",
       "      <td>Andy heads off to Cowboy Camp, leaving his toy...</td>\n",
       "      <td>Toy Story 2 Andy heads off to Cowboy Camp, lea...</td>\n",
       "    </tr>\n",
       "    <tr>\n",
       "      <th>14706</th>\n",
       "      <td>toy story 3</td>\n",
       "      <td>animation family comedy</td>\n",
       "      <td>tom_hanks tim_allen ned_beatty</td>\n",
       "      <td>hostage college toy</td>\n",
       "      <td>lee_unkrich</td>\n",
       "      <td>Woody, Buzz, and the rest of Andy's toys haven...</td>\n",
       "      <td>Toy Story 3 Woody, Buzz, and the rest of Andy'...</td>\n",
       "    </tr>\n",
       "    <tr>\n",
       "      <th>9984</th>\n",
       "      <td>the 40 year old virgin</td>\n",
       "      <td>comedy romance</td>\n",
       "      <td>steve_carell catherine_keener paul_rudd</td>\n",
       "      <td>first_time virgin</td>\n",
       "      <td>judd_apatow</td>\n",
       "      <td>Andy Stitzer has a pleasant life with a nice a...</td>\n",
       "      <td>The 40 Year Old Virgin Andy Stitzer has a plea...</td>\n",
       "    </tr>\n",
       "    <tr>\n",
       "      <th>22414</th>\n",
       "      <td>andy hardy's blonde trouble</td>\n",
       "      <td>comedy family romance</td>\n",
       "      <td>azura_skye annie_heller carla_gallo</td>\n",
       "      <td>independent_film</td>\n",
       "      <td>ken_kwapis</td>\n",
       "      <td>Andy is going to Wainwright College as did his...</td>\n",
       "      <td>Andy Hardy's Blonde Trouble Andy is going to W...</td>\n",
       "    </tr>\n",
       "    <tr>\n",
       "      <th>23024</th>\n",
       "      <td>small fry</td>\n",
       "      <td>animation family</td>\n",
       "      <td>NaN</td>\n",
       "      <td>soul fight trap</td>\n",
       "      <td>shane_acker</td>\n",
       "      <td>A fast food restaurant mini variant of Buzz fo...</td>\n",
       "      <td>Small Fry A fast food restaurant mini variant ...</td>\n",
       "    </tr>\n",
       "    <tr>\n",
       "      <th>33726</th>\n",
       "      <td>toy reanimator</td>\n",
       "      <td>science_fiction fantasy</td>\n",
       "      <td>saeed_jaffrey kareem_samar zohra_sehgal</td>\n",
       "      <td>NaN</td>\n",
       "      <td>ismail_merchant</td>\n",
       "      <td>Set in a toy store specialized in antique toys...</td>\n",
       "      <td>Toy Reanimator Set in a toy store specialized ...</td>\n",
       "    </tr>\n",
       "    <tr>\n",
       "      <th>39614</th>\n",
       "      <td>andy kaufman plays carnegie hall</td>\n",
       "      <td>NaN</td>\n",
       "      <td>nanni_moretti laura_morante roberto_vezzosi</td>\n",
       "      <td>germany political_satire neo-nazis</td>\n",
       "      <td>nanni_moretti</td>\n",
       "      <td>Andy Kaufman's legendary sold-out Carnegie Hal...</td>\n",
       "      <td>Andy Kaufman Plays Carnegie Hall Andy Kaufman'...</td>\n",
       "    </tr>\n",
       "    <tr>\n",
       "      <th>35241</th>\n",
       "      <td>superstar: the life and times of andy warhol</td>\n",
       "      <td>documentary</td>\n",
       "      <td>qiang_chen xin-gang_wang mei_xiang</td>\n",
       "      <td>NaN</td>\n",
       "      <td>xie_jin</td>\n",
       "      <td>Documentary portrait of Andy Warhol.</td>\n",
       "      <td>Superstar: The Life and Times of Andy Warhol D...</td>\n",
       "    </tr>\n",
       "    <tr>\n",
       "      <th>24068</th>\n",
       "      <td>silent night, deadly night 5: the toy maker</td>\n",
       "      <td>horror science_fiction</td>\n",
       "      <td>josé_elías_moreno cesáreo_quezadas josé_luis_a...</td>\n",
       "      <td>mexico santa_claus children</td>\n",
       "      <td>rené_cardona</td>\n",
       "      <td>A young boy sees his father killed by a toy th...</td>\n",
       "      <td>Silent Night, Deadly Night 5: The Toy Maker A ...</td>\n",
       "    </tr>\n",
       "    <tr>\n",
       "      <th>38993</th>\n",
       "      <td>andy peters: exclamation mark question point</td>\n",
       "      <td>comedy</td>\n",
       "      <td>tōru_furuya hirotaka_suzuoki kōichi_hashimoto</td>\n",
       "      <td>middle_east drug_dealer family_relationships</td>\n",
       "      <td>shigeyasu_yamauchi</td>\n",
       "      <td>Exclamation Mark Question Point is the debut s...</td>\n",
       "      <td>Andy Peters: Exclamation Mark Question Point E...</td>\n",
       "    </tr>\n",
       "  </tbody>\n",
       "</table>\n",
       "</div>"
      ],
      "text/plain": [
       "                                              title                   genres  \\\n",
       "2945                                    toy story 2  animation comedy family   \n",
       "14706                                   toy story 3  animation family comedy   \n",
       "9984                         the 40 year old virgin           comedy romance   \n",
       "22414                   andy hardy's blonde trouble    comedy family romance   \n",
       "23024                                     small fry         animation family   \n",
       "33726                                toy reanimator  science_fiction fantasy   \n",
       "39614              andy kaufman plays carnegie hall                      NaN   \n",
       "35241  superstar: the life and times of andy warhol              documentary   \n",
       "24068   silent night, deadly night 5: the toy maker   horror science_fiction   \n",
       "38993  andy peters: exclamation mark question point                   comedy   \n",
       "\n",
       "                                                    cast  \\\n",
       "2945                     tom_hanks tim_allen joan_cusack   \n",
       "14706                     tom_hanks tim_allen ned_beatty   \n",
       "9984             steve_carell catherine_keener paul_rudd   \n",
       "22414                azura_skye annie_heller carla_gallo   \n",
       "23024                                                NaN   \n",
       "33726            saeed_jaffrey kareem_samar zohra_sehgal   \n",
       "39614        nanni_moretti laura_morante roberto_vezzosi   \n",
       "35241                 qiang_chen xin-gang_wang mei_xiang   \n",
       "24068  josé_elías_moreno cesáreo_quezadas josé_luis_a...   \n",
       "38993      tōru_furuya hirotaka_suzuoki kōichi_hashimoto   \n",
       "\n",
       "                                           keywords            director  \\\n",
       "2945             museum prosecution identity_crisis       john_lasseter   \n",
       "14706                           hostage college toy         lee_unkrich   \n",
       "9984                              first_time virgin         judd_apatow   \n",
       "22414                              independent_film          ken_kwapis   \n",
       "23024                               soul fight trap         shane_acker   \n",
       "33726                                           NaN     ismail_merchant   \n",
       "39614            germany political_satire neo-nazis       nanni_moretti   \n",
       "35241                                           NaN             xie_jin   \n",
       "24068                   mexico santa_claus children        rené_cardona   \n",
       "38993  middle_east drug_dealer family_relationships  shigeyasu_yamauchi   \n",
       "\n",
       "                                                overview  \\\n",
       "2945   Andy heads off to Cowboy Camp, leaving his toy...   \n",
       "14706  Woody, Buzz, and the rest of Andy's toys haven...   \n",
       "9984   Andy Stitzer has a pleasant life with a nice a...   \n",
       "22414  Andy is going to Wainwright College as did his...   \n",
       "23024  A fast food restaurant mini variant of Buzz fo...   \n",
       "33726  Set in a toy store specialized in antique toys...   \n",
       "39614  Andy Kaufman's legendary sold-out Carnegie Hal...   \n",
       "35241               Documentary portrait of Andy Warhol.   \n",
       "24068  A young boy sees his father killed by a toy th...   \n",
       "38993  Exclamation Mark Question Point is the debut s...   \n",
       "\n",
       "                                                metadata  \n",
       "2945   Toy Story 2 Andy heads off to Cowboy Camp, lea...  \n",
       "14706  Toy Story 3 Woody, Buzz, and the rest of Andy'...  \n",
       "9984   The 40 Year Old Virgin Andy Stitzer has a plea...  \n",
       "22414  Andy Hardy's Blonde Trouble Andy is going to W...  \n",
       "23024  Small Fry A fast food restaurant mini variant ...  \n",
       "33726  Toy Reanimator Set in a toy store specialized ...  \n",
       "39614  Andy Kaufman Plays Carnegie Hall Andy Kaufman'...  \n",
       "35241  Superstar: The Life and Times of Andy Warhol D...  \n",
       "24068  Silent Night, Deadly Night 5: The Toy Maker A ...  \n",
       "38993  Andy Peters: Exclamation Mark Question Point E...  "
      ]
     },
     "execution_count": 15,
     "metadata": {},
     "output_type": "execute_result"
    }
   ],
   "source": [
    "df.loc[rec_idx]"
   ]
  },
  {
   "cell_type": "markdown",
   "id": "tracked-receipt",
   "metadata": {},
   "source": [
    "# Bungkus code pemodelan : ML Engineering"
   ]
  },
  {
   "cell_type": "code",
   "execution_count": 16,
   "id": "weekly-pattern",
   "metadata": {},
   "outputs": [],
   "source": [
    "import pandas as pd\n",
    "from warnings import filterwarnings\n",
    "filterwarnings('ignore')\n",
    "from jcopml.utils import load_model\n",
    "from sklearn.metrics.pairwise import cosine_similarity\n",
    "\n",
    "# load model \n",
    "features = load_model('model/features.pkl')\n",
    "tfidf = load_model('model/tfidf.pkl')\n",
    "\n",
    "class RecommenderSystem: \n",
    "    def __init__(self, data, encoder, features, content_col):\n",
    "        self.df = pd.read_csv(data)\n",
    "        self.content_col = content_col\n",
    "        self.encoder = encoder\n",
    "        self.features = features\n",
    "        \n",
    "    def recommend(self, title, topk=10):\n",
    "        idx = list(self.df[self.df.title == title.lower()].index)\n",
    "        content = self.df.loc[idx[0], self.content_col]\n",
    "        code = self.encoder.transform([content])\n",
    "        \n",
    "        dist = cosine_similarity(code, self.features)\n",
    "        rec_idx = (-dist).argsort()[0, 1:11]\n",
    "        return self.df.loc[rec_idx, 'title':'genres']"
   ]
  },
  {
   "cell_type": "code",
   "execution_count": 17,
   "id": "handled-classic",
   "metadata": {},
   "outputs": [],
   "source": [
    "recsys = RecommenderSystem('data/content_based_movie.csv', tfidf, features, 'metadata')"
   ]
  },
  {
   "cell_type": "code",
   "execution_count": 18,
   "id": "timely-nicholas",
   "metadata": {},
   "outputs": [
    {
     "data": {
      "text/html": [
       "<div>\n",
       "<style scoped>\n",
       "    .dataframe tbody tr th:only-of-type {\n",
       "        vertical-align: middle;\n",
       "    }\n",
       "\n",
       "    .dataframe tbody tr th {\n",
       "        vertical-align: top;\n",
       "    }\n",
       "\n",
       "    .dataframe thead th {\n",
       "        text-align: right;\n",
       "    }\n",
       "</style>\n",
       "<table border=\"1\" class=\"dataframe\">\n",
       "  <thead>\n",
       "    <tr style=\"text-align: right;\">\n",
       "      <th></th>\n",
       "      <th>title</th>\n",
       "      <th>genres</th>\n",
       "    </tr>\n",
       "  </thead>\n",
       "  <tbody>\n",
       "    <tr>\n",
       "      <th>29345</th>\n",
       "      <td>aladdin and the death lamp</td>\n",
       "      <td>tv_movie adventure fantasy</td>\n",
       "    </tr>\n",
       "    <tr>\n",
       "      <th>4782</th>\n",
       "      <td>jimmy neutron: boy genius</td>\n",
       "      <td>action adventure animation</td>\n",
       "    </tr>\n",
       "    <tr>\n",
       "      <th>20182</th>\n",
       "      <td>blue jasmine</td>\n",
       "      <td>comedy drama</td>\n",
       "    </tr>\n",
       "    <tr>\n",
       "      <th>35006</th>\n",
       "      <td>aladdin and his magic lamp</td>\n",
       "      <td>adventure family romance</td>\n",
       "    </tr>\n",
       "    <tr>\n",
       "      <th>35451</th>\n",
       "      <td>platinum the dance movie</td>\n",
       "      <td>romance music comedy</td>\n",
       "    </tr>\n",
       "    <tr>\n",
       "      <th>14316</th>\n",
       "      <td>lupin the third: sweet lost night</td>\n",
       "      <td>action animation comedy</td>\n",
       "    </tr>\n",
       "    <tr>\n",
       "      <th>1470</th>\n",
       "      <td>wedding bell blues</td>\n",
       "      <td>comedy romance</td>\n",
       "    </tr>\n",
       "    <tr>\n",
       "      <th>1959</th>\n",
       "      <td>the return of jafar</td>\n",
       "      <td>family adventure animation</td>\n",
       "    </tr>\n",
       "    <tr>\n",
       "      <th>29943</th>\n",
       "      <td>16 wishes</td>\n",
       "      <td>fantasy drama family</td>\n",
       "    </tr>\n",
       "    <tr>\n",
       "      <th>12894</th>\n",
       "      <td>comet in moominland</td>\n",
       "      <td>animation comedy fantasy</td>\n",
       "    </tr>\n",
       "  </tbody>\n",
       "</table>\n",
       "</div>"
      ],
      "text/plain": [
       "                                   title                      genres\n",
       "29345         aladdin and the death lamp  tv_movie adventure fantasy\n",
       "4782           jimmy neutron: boy genius  action adventure animation\n",
       "20182                       blue jasmine                comedy drama\n",
       "35006         aladdin and his magic lamp    adventure family romance\n",
       "35451           platinum the dance movie        romance music comedy\n",
       "14316  lupin the third: sweet lost night     action animation comedy\n",
       "1470                  wedding bell blues              comedy romance\n",
       "1959                 the return of jafar  family adventure animation\n",
       "29943                          16 wishes        fantasy drama family\n",
       "12894                comet in moominland    animation comedy fantasy"
      ]
     },
     "execution_count": 18,
     "metadata": {},
     "output_type": "execute_result"
    }
   ],
   "source": [
    "recsys.recommend(title='aladin')"
   ]
  },
  {
   "cell_type": "code",
   "execution_count": null,
   "id": "936e2df4",
   "metadata": {},
   "outputs": [],
   "source": []
  }
 ],
 "metadata": {
  "kernelspec": {
   "display_name": "Python [conda env:jcop]",
   "language": "python",
   "name": "conda-env-jcop-py"
  },
  "language_info": {
   "codemirror_mode": {
    "name": "ipython",
    "version": 3
   },
   "file_extension": ".py",
   "mimetype": "text/x-python",
   "name": "python",
   "nbconvert_exporter": "python",
   "pygments_lexer": "ipython3",
   "version": "3.7.6"
  }
 },
 "nbformat": 4,
 "nbformat_minor": 5
}
